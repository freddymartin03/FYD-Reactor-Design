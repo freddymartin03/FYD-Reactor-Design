{
 "cells": [
  {
   "cell_type": "code",
   "execution_count": 22,
   "metadata": {},
   "outputs": [],
   "source": [
    "import plotly.express as px\n",
    "import pandas as pd\n",
    "import plotly.io as pio"
   ]
  },
  {
   "cell_type": "code",
   "execution_count": 2,
   "metadata": {},
   "outputs": [
    {
     "ename": "ValueError",
     "evalue": "Mime type rendering requires nbformat>=4.2.0 but it is not installed",
     "output_type": "error",
     "traceback": [
      "\u001b[1;31m---------------------------------------------------------------------------\u001b[0m",
      "\u001b[1;31mValueError\u001b[0m                                Traceback (most recent call last)",
      "File \u001b[1;32mc:\\Users\\fjm21\\Anaconda3\\envs\\pleasework3\\lib\\site-packages\\IPython\\core\\formatters.py:984\u001b[0m, in \u001b[0;36mIPythonDisplayFormatter.__call__\u001b[1;34m(self, obj)\u001b[0m\n\u001b[0;32m    982\u001b[0m method \u001b[38;5;241m=\u001b[39m get_real_method(obj, \u001b[38;5;28mself\u001b[39m\u001b[38;5;241m.\u001b[39mprint_method)\n\u001b[0;32m    983\u001b[0m \u001b[38;5;28;01mif\u001b[39;00m method \u001b[38;5;129;01mis\u001b[39;00m \u001b[38;5;129;01mnot\u001b[39;00m \u001b[38;5;28;01mNone\u001b[39;00m:\n\u001b[1;32m--> 984\u001b[0m     \u001b[43mmethod\u001b[49m\u001b[43m(\u001b[49m\u001b[43m)\u001b[49m\n\u001b[0;32m    985\u001b[0m     \u001b[38;5;28;01mreturn\u001b[39;00m \u001b[38;5;28;01mTrue\u001b[39;00m\n",
      "File \u001b[1;32mc:\\Users\\fjm21\\Anaconda3\\envs\\pleasework3\\lib\\site-packages\\plotly\\basedatatypes.py:832\u001b[0m, in \u001b[0;36mBaseFigure._ipython_display_\u001b[1;34m(self)\u001b[0m\n\u001b[0;32m    829\u001b[0m \u001b[38;5;28;01mimport\u001b[39;00m \u001b[38;5;21;01mplotly\u001b[39;00m\u001b[38;5;21;01m.\u001b[39;00m\u001b[38;5;21;01mio\u001b[39;00m \u001b[38;5;28;01mas\u001b[39;00m \u001b[38;5;21;01mpio\u001b[39;00m\n\u001b[0;32m    831\u001b[0m \u001b[38;5;28;01mif\u001b[39;00m pio\u001b[38;5;241m.\u001b[39mrenderers\u001b[38;5;241m.\u001b[39mrender_on_display \u001b[38;5;129;01mand\u001b[39;00m pio\u001b[38;5;241m.\u001b[39mrenderers\u001b[38;5;241m.\u001b[39mdefault:\n\u001b[1;32m--> 832\u001b[0m     \u001b[43mpio\u001b[49m\u001b[38;5;241;43m.\u001b[39;49m\u001b[43mshow\u001b[49m\u001b[43m(\u001b[49m\u001b[38;5;28;43mself\u001b[39;49m\u001b[43m)\u001b[49m\n\u001b[0;32m    833\u001b[0m \u001b[38;5;28;01melse\u001b[39;00m:\n\u001b[0;32m    834\u001b[0m     \u001b[38;5;28mprint\u001b[39m(\u001b[38;5;28mrepr\u001b[39m(\u001b[38;5;28mself\u001b[39m))\n",
      "File \u001b[1;32mc:\\Users\\fjm21\\Anaconda3\\envs\\pleasework3\\lib\\site-packages\\plotly\\io\\_renderers.py:394\u001b[0m, in \u001b[0;36mshow\u001b[1;34m(fig, renderer, validate, **kwargs)\u001b[0m\n\u001b[0;32m    389\u001b[0m         \u001b[38;5;28;01mraise\u001b[39;00m \u001b[38;5;167;01mValueError\u001b[39;00m(\n\u001b[0;32m    390\u001b[0m             \u001b[38;5;124m\"\u001b[39m\u001b[38;5;124mMime type rendering requires ipython but it is not installed\u001b[39m\u001b[38;5;124m\"\u001b[39m\n\u001b[0;32m    391\u001b[0m         )\n\u001b[0;32m    393\u001b[0m     \u001b[38;5;28;01mif\u001b[39;00m \u001b[38;5;129;01mnot\u001b[39;00m nbformat \u001b[38;5;129;01mor\u001b[39;00m Version(nbformat\u001b[38;5;241m.\u001b[39m__version__) \u001b[38;5;241m<\u001b[39m Version(\u001b[38;5;124m\"\u001b[39m\u001b[38;5;124m4.2.0\u001b[39m\u001b[38;5;124m\"\u001b[39m):\n\u001b[1;32m--> 394\u001b[0m         \u001b[38;5;28;01mraise\u001b[39;00m \u001b[38;5;167;01mValueError\u001b[39;00m(\n\u001b[0;32m    395\u001b[0m             \u001b[38;5;124m\"\u001b[39m\u001b[38;5;124mMime type rendering requires nbformat>=4.2.0 but it is not installed\u001b[39m\u001b[38;5;124m\"\u001b[39m\n\u001b[0;32m    396\u001b[0m         )\n\u001b[0;32m    398\u001b[0m     ipython_display\u001b[38;5;241m.\u001b[39mdisplay(bundle, raw\u001b[38;5;241m=\u001b[39m\u001b[38;5;28;01mTrue\u001b[39;00m)\n\u001b[0;32m    400\u001b[0m \u001b[38;5;66;03m# external renderers\u001b[39;00m\n",
      "\u001b[1;31mValueError\u001b[0m: Mime type rendering requires nbformat>=4.2.0 but it is not installed"
     ]
    },
    {
     "data": {
      "application/vnd.plotly.v1+json": {
       "config": {
        "plotlyServerURL": "https://plot.ly"
       },
       "data": [
        {
         "alignmentgroup": "True",
         "base": [
          "2025-03-04T06:00:00",
          "2025-03-04T06:30:00",
          "2025-03-04T07:30:00",
          "2025-03-04T09:00:00",
          "2025-03-04T10:30:00",
          "2025-03-04T11:00:00",
          "2025-03-04T12:00:00",
          "2025-03-04T13:30:00"
         ],
         "hovertemplate": "Resource=R-301a<br>Start=%{base}<br>Finish=%{x}<br>Task=%{y}<extra></extra>",
         "legendgroup": "R-301a",
         "marker": {
          "color": "#636efa",
          "pattern": {
           "shape": ""
          }
         },
         "name": "R-301a",
         "offsetgroup": "R-301a",
         "orientation": "h",
         "showlegend": true,
         "textposition": "auto",
         "type": "bar",
         "x": [
          1800000,
          3600000,
          5400000,
          1800000,
          1800000,
          3600000,
          5400000,
          1800000
         ],
         "xaxis": "x",
         "y": [
          "Charge R-301a",
          "Heat R-301a",
          "Reaction R-301a",
          "Deload R-301a",
          "Charge R-301a",
          "Heat R-301a",
          "Reaction R-301a",
          "Deload R-301a"
         ],
         "yaxis": "y"
        },
        {
         "alignmentgroup": "True",
         "base": [
          "2025-03-04T07:30:00",
          "2025-03-04T08:00:00",
          "2025-03-04T09:00:00",
          "2025-03-04T10:30:00",
          "2025-03-04T12:00:00",
          "2025-03-04T12:30:00",
          "2025-03-04T13:30:00",
          "2025-03-04T15:00:00"
         ],
         "hovertemplate": "Resource=R-301b<br>Start=%{base}<br>Finish=%{x}<br>Task=%{y}<extra></extra>",
         "legendgroup": "R-301b",
         "marker": {
          "color": "#EF553B",
          "pattern": {
           "shape": ""
          }
         },
         "name": "R-301b",
         "offsetgroup": "R-301b",
         "orientation": "h",
         "showlegend": true,
         "textposition": "auto",
         "type": "bar",
         "x": [
          1800000,
          3600000,
          5400000,
          1800000,
          1800000,
          3600000,
          5400000,
          1800000
         ],
         "xaxis": "x",
         "y": [
          "Charge R-301b",
          "Heat R-301b",
          "Reaction R-301b",
          "Deload R-301b",
          "Charge R-301b",
          "Heat R-301b",
          "Reaction R-301b",
          "Deload R-301b"
         ],
         "yaxis": "y"
        },
        {
         "alignmentgroup": "True",
         "base": [
          "2025-03-04T09:00:00",
          "2025-03-04T09:30:00",
          "2025-03-04T10:30:00",
          "2025-03-04T12:00:00",
          "2025-03-04T13:30:00",
          "2025-03-04T14:00:00",
          "2025-03-04T15:00:00",
          "2025-03-04T16:30:00"
         ],
         "hovertemplate": "Resource=R-301c<br>Start=%{base}<br>Finish=%{x}<br>Task=%{y}<extra></extra>",
         "legendgroup": "R-301c",
         "marker": {
          "color": "#00cc96",
          "pattern": {
           "shape": ""
          }
         },
         "name": "R-301c",
         "offsetgroup": "R-301c",
         "orientation": "h",
         "showlegend": true,
         "textposition": "auto",
         "type": "bar",
         "x": [
          1800000,
          3600000,
          5400000,
          1800000,
          1800000,
          3600000,
          5400000,
          1800000
         ],
         "xaxis": "x",
         "y": [
          "Charge R-301c",
          "Heat R-301c",
          "Reaction R-301c",
          "Deload R-301c",
          "Charge R-301c",
          "Heat R-301c",
          "Reaction R-301c",
          "Deload R-301c"
         ],
         "yaxis": "y"
        },
        {
         "alignmentgroup": "True",
         "base": [
          "2025-03-04T09:00:00",
          "2025-03-04T09:30:00",
          "2025-03-04T11:30:00",
          "2025-03-04T12:00:00",
          "2025-03-04T12:30:00",
          "2025-03-04T14:30:00",
          "2025-03-04T15:00:00",
          "2025-03-04T15:30:00",
          "2025-03-04T17:30:00"
         ],
         "hovertemplate": "Resource=R-501a<br>Start=%{base}<br>Finish=%{x}<br>Task=%{y}<extra></extra>",
         "legendgroup": "R-501a",
         "marker": {
          "color": "#ab63fa",
          "pattern": {
           "shape": ""
          }
         },
         "name": "R-501a",
         "offsetgroup": "R-501a",
         "orientation": "h",
         "showlegend": true,
         "textposition": "auto",
         "type": "bar",
         "x": [
          1800000,
          7200000,
          1800000,
          1800000,
          7200000,
          1800000,
          1800000,
          7200000,
          1800000
         ],
         "xaxis": "x",
         "y": [
          "Charge R-501a",
          "Smelting reduction R-501a",
          "Deload R-501a",
          "Charge R-501a",
          "Smelting reduction R-501a",
          "Deload R-501a",
          "Charge R-501a",
          "Smelting reduction R-501a",
          "Deload R-501a"
         ],
         "yaxis": "y"
        },
        {
         "alignmentgroup": "True",
         "base": [
          "2025-03-04T10:30:00",
          "2025-03-04T11:00:00",
          "2025-03-04T13:00:00",
          "2025-03-04T13:30:00",
          "2025-03-04T14:00:00",
          "2025-03-04T16:00:00",
          "2025-03-04T16:30:00",
          "2025-03-04T17:00:00",
          "2025-03-04T19:00:00"
         ],
         "hovertemplate": "Resource=R-501b<br>Start=%{base}<br>Finish=%{x}<br>Task=%{y}<extra></extra>",
         "legendgroup": "R-501b",
         "marker": {
          "color": "#FFA15A",
          "pattern": {
           "shape": ""
          }
         },
         "name": "R-501b",
         "offsetgroup": "R-501b",
         "orientation": "h",
         "showlegend": true,
         "textposition": "auto",
         "type": "bar",
         "x": [
          1800000,
          7200000,
          1800000,
          1800000,
          7200000,
          1800000,
          1800000,
          7200000,
          1800000
         ],
         "xaxis": "x",
         "y": [
          "Charge R-501b",
          "Smelting reduction R-501b",
          "Deload R-501b",
          "Charge R-501b",
          "Smelting reduction R-501b",
          "Deload R-501b",
          "Charge R-501b",
          "Smelting reduction R-501b",
          "Deload R-501b"
         ],
         "yaxis": "y"
        },
        {
         "alignmentgroup": "True",
         "base": [
          "2025-03-04T15:00:00",
          "2025-03-04T18:00:00"
         ],
         "hovertemplate": "Resource=Additional <br>Capacity<br>Start=%{base}<br>Finish=%{x}<br>Task=%{y}<extra></extra>",
         "legendgroup": "Additional <br>Capacity",
         "marker": {
          "color": "#19d3f3",
          "pattern": {
           "shape": ""
          }
         },
         "name": "Additional <br>Capacity",
         "offsetgroup": "Additional <br>Capacity",
         "orientation": "h",
         "showlegend": true,
         "textposition": "auto",
         "type": "bar",
         "x": [
          12600000,
          10800000
         ],
         "xaxis": "x",
         "y": [
          "Additional PRR Cycle (TPM)",
          "Additional SRF Cycle (TPM)"
         ],
         "yaxis": "y"
        }
       ],
       "layout": {
        "barmode": "overlay",
        "height": 500,
        "legend": {
         "title": {
          "text": "Resource"
         },
         "tracegroupgap": 0
        },
        "margin": {
         "t": 60
        },
        "template": {
         "data": {
          "bar": [
           {
            "error_x": {
             "color": "#2a3f5f"
            },
            "error_y": {
             "color": "#2a3f5f"
            },
            "marker": {
             "line": {
              "color": "#E5ECF6",
              "width": 0.5
             },
             "pattern": {
              "fillmode": "overlay",
              "size": 10,
              "solidity": 0.2
             }
            },
            "type": "bar"
           }
          ],
          "barpolar": [
           {
            "marker": {
             "line": {
              "color": "#E5ECF6",
              "width": 0.5
             },
             "pattern": {
              "fillmode": "overlay",
              "size": 10,
              "solidity": 0.2
             }
            },
            "type": "barpolar"
           }
          ],
          "carpet": [
           {
            "aaxis": {
             "endlinecolor": "#2a3f5f",
             "gridcolor": "white",
             "linecolor": "white",
             "minorgridcolor": "white",
             "startlinecolor": "#2a3f5f"
            },
            "baxis": {
             "endlinecolor": "#2a3f5f",
             "gridcolor": "white",
             "linecolor": "white",
             "minorgridcolor": "white",
             "startlinecolor": "#2a3f5f"
            },
            "type": "carpet"
           }
          ],
          "choropleth": [
           {
            "colorbar": {
             "outlinewidth": 0,
             "ticks": ""
            },
            "type": "choropleth"
           }
          ],
          "contour": [
           {
            "colorbar": {
             "outlinewidth": 0,
             "ticks": ""
            },
            "colorscale": [
             [
              0,
              "#0d0887"
             ],
             [
              0.1111111111111111,
              "#46039f"
             ],
             [
              0.2222222222222222,
              "#7201a8"
             ],
             [
              0.3333333333333333,
              "#9c179e"
             ],
             [
              0.4444444444444444,
              "#bd3786"
             ],
             [
              0.5555555555555556,
              "#d8576b"
             ],
             [
              0.6666666666666666,
              "#ed7953"
             ],
             [
              0.7777777777777778,
              "#fb9f3a"
             ],
             [
              0.8888888888888888,
              "#fdca26"
             ],
             [
              1,
              "#f0f921"
             ]
            ],
            "type": "contour"
           }
          ],
          "contourcarpet": [
           {
            "colorbar": {
             "outlinewidth": 0,
             "ticks": ""
            },
            "type": "contourcarpet"
           }
          ],
          "heatmap": [
           {
            "colorbar": {
             "outlinewidth": 0,
             "ticks": ""
            },
            "colorscale": [
             [
              0,
              "#0d0887"
             ],
             [
              0.1111111111111111,
              "#46039f"
             ],
             [
              0.2222222222222222,
              "#7201a8"
             ],
             [
              0.3333333333333333,
              "#9c179e"
             ],
             [
              0.4444444444444444,
              "#bd3786"
             ],
             [
              0.5555555555555556,
              "#d8576b"
             ],
             [
              0.6666666666666666,
              "#ed7953"
             ],
             [
              0.7777777777777778,
              "#fb9f3a"
             ],
             [
              0.8888888888888888,
              "#fdca26"
             ],
             [
              1,
              "#f0f921"
             ]
            ],
            "type": "heatmap"
           }
          ],
          "heatmapgl": [
           {
            "colorbar": {
             "outlinewidth": 0,
             "ticks": ""
            },
            "colorscale": [
             [
              0,
              "#0d0887"
             ],
             [
              0.1111111111111111,
              "#46039f"
             ],
             [
              0.2222222222222222,
              "#7201a8"
             ],
             [
              0.3333333333333333,
              "#9c179e"
             ],
             [
              0.4444444444444444,
              "#bd3786"
             ],
             [
              0.5555555555555556,
              "#d8576b"
             ],
             [
              0.6666666666666666,
              "#ed7953"
             ],
             [
              0.7777777777777778,
              "#fb9f3a"
             ],
             [
              0.8888888888888888,
              "#fdca26"
             ],
             [
              1,
              "#f0f921"
             ]
            ],
            "type": "heatmapgl"
           }
          ],
          "histogram": [
           {
            "marker": {
             "pattern": {
              "fillmode": "overlay",
              "size": 10,
              "solidity": 0.2
             }
            },
            "type": "histogram"
           }
          ],
          "histogram2d": [
           {
            "colorbar": {
             "outlinewidth": 0,
             "ticks": ""
            },
            "colorscale": [
             [
              0,
              "#0d0887"
             ],
             [
              0.1111111111111111,
              "#46039f"
             ],
             [
              0.2222222222222222,
              "#7201a8"
             ],
             [
              0.3333333333333333,
              "#9c179e"
             ],
             [
              0.4444444444444444,
              "#bd3786"
             ],
             [
              0.5555555555555556,
              "#d8576b"
             ],
             [
              0.6666666666666666,
              "#ed7953"
             ],
             [
              0.7777777777777778,
              "#fb9f3a"
             ],
             [
              0.8888888888888888,
              "#fdca26"
             ],
             [
              1,
              "#f0f921"
             ]
            ],
            "type": "histogram2d"
           }
          ],
          "histogram2dcontour": [
           {
            "colorbar": {
             "outlinewidth": 0,
             "ticks": ""
            },
            "colorscale": [
             [
              0,
              "#0d0887"
             ],
             [
              0.1111111111111111,
              "#46039f"
             ],
             [
              0.2222222222222222,
              "#7201a8"
             ],
             [
              0.3333333333333333,
              "#9c179e"
             ],
             [
              0.4444444444444444,
              "#bd3786"
             ],
             [
              0.5555555555555556,
              "#d8576b"
             ],
             [
              0.6666666666666666,
              "#ed7953"
             ],
             [
              0.7777777777777778,
              "#fb9f3a"
             ],
             [
              0.8888888888888888,
              "#fdca26"
             ],
             [
              1,
              "#f0f921"
             ]
            ],
            "type": "histogram2dcontour"
           }
          ],
          "mesh3d": [
           {
            "colorbar": {
             "outlinewidth": 0,
             "ticks": ""
            },
            "type": "mesh3d"
           }
          ],
          "parcoords": [
           {
            "line": {
             "colorbar": {
              "outlinewidth": 0,
              "ticks": ""
             }
            },
            "type": "parcoords"
           }
          ],
          "pie": [
           {
            "automargin": true,
            "type": "pie"
           }
          ],
          "scatter": [
           {
            "fillpattern": {
             "fillmode": "overlay",
             "size": 10,
             "solidity": 0.2
            },
            "type": "scatter"
           }
          ],
          "scatter3d": [
           {
            "line": {
             "colorbar": {
              "outlinewidth": 0,
              "ticks": ""
             }
            },
            "marker": {
             "colorbar": {
              "outlinewidth": 0,
              "ticks": ""
             }
            },
            "type": "scatter3d"
           }
          ],
          "scattercarpet": [
           {
            "marker": {
             "colorbar": {
              "outlinewidth": 0,
              "ticks": ""
             }
            },
            "type": "scattercarpet"
           }
          ],
          "scattergeo": [
           {
            "marker": {
             "colorbar": {
              "outlinewidth": 0,
              "ticks": ""
             }
            },
            "type": "scattergeo"
           }
          ],
          "scattergl": [
           {
            "marker": {
             "colorbar": {
              "outlinewidth": 0,
              "ticks": ""
             }
            },
            "type": "scattergl"
           }
          ],
          "scattermapbox": [
           {
            "marker": {
             "colorbar": {
              "outlinewidth": 0,
              "ticks": ""
             }
            },
            "type": "scattermapbox"
           }
          ],
          "scatterpolar": [
           {
            "marker": {
             "colorbar": {
              "outlinewidth": 0,
              "ticks": ""
             }
            },
            "type": "scatterpolar"
           }
          ],
          "scatterpolargl": [
           {
            "marker": {
             "colorbar": {
              "outlinewidth": 0,
              "ticks": ""
             }
            },
            "type": "scatterpolargl"
           }
          ],
          "scatterternary": [
           {
            "marker": {
             "colorbar": {
              "outlinewidth": 0,
              "ticks": ""
             }
            },
            "type": "scatterternary"
           }
          ],
          "surface": [
           {
            "colorbar": {
             "outlinewidth": 0,
             "ticks": ""
            },
            "colorscale": [
             [
              0,
              "#0d0887"
             ],
             [
              0.1111111111111111,
              "#46039f"
             ],
             [
              0.2222222222222222,
              "#7201a8"
             ],
             [
              0.3333333333333333,
              "#9c179e"
             ],
             [
              0.4444444444444444,
              "#bd3786"
             ],
             [
              0.5555555555555556,
              "#d8576b"
             ],
             [
              0.6666666666666666,
              "#ed7953"
             ],
             [
              0.7777777777777778,
              "#fb9f3a"
             ],
             [
              0.8888888888888888,
              "#fdca26"
             ],
             [
              1,
              "#f0f921"
             ]
            ],
            "type": "surface"
           }
          ],
          "table": [
           {
            "cells": {
             "fill": {
              "color": "#EBF0F8"
             },
             "line": {
              "color": "white"
             }
            },
            "header": {
             "fill": {
              "color": "#C8D4E3"
             },
             "line": {
              "color": "white"
             }
            },
            "type": "table"
           }
          ]
         },
         "layout": {
          "annotationdefaults": {
           "arrowcolor": "#2a3f5f",
           "arrowhead": 0,
           "arrowwidth": 1
          },
          "autotypenumbers": "strict",
          "coloraxis": {
           "colorbar": {
            "outlinewidth": 0,
            "ticks": ""
           }
          },
          "colorscale": {
           "diverging": [
            [
             0,
             "#8e0152"
            ],
            [
             0.1,
             "#c51b7d"
            ],
            [
             0.2,
             "#de77ae"
            ],
            [
             0.3,
             "#f1b6da"
            ],
            [
             0.4,
             "#fde0ef"
            ],
            [
             0.5,
             "#f7f7f7"
            ],
            [
             0.6,
             "#e6f5d0"
            ],
            [
             0.7,
             "#b8e186"
            ],
            [
             0.8,
             "#7fbc41"
            ],
            [
             0.9,
             "#4d9221"
            ],
            [
             1,
             "#276419"
            ]
           ],
           "sequential": [
            [
             0,
             "#0d0887"
            ],
            [
             0.1111111111111111,
             "#46039f"
            ],
            [
             0.2222222222222222,
             "#7201a8"
            ],
            [
             0.3333333333333333,
             "#9c179e"
            ],
            [
             0.4444444444444444,
             "#bd3786"
            ],
            [
             0.5555555555555556,
             "#d8576b"
            ],
            [
             0.6666666666666666,
             "#ed7953"
            ],
            [
             0.7777777777777778,
             "#fb9f3a"
            ],
            [
             0.8888888888888888,
             "#fdca26"
            ],
            [
             1,
             "#f0f921"
            ]
           ],
           "sequentialminus": [
            [
             0,
             "#0d0887"
            ],
            [
             0.1111111111111111,
             "#46039f"
            ],
            [
             0.2222222222222222,
             "#7201a8"
            ],
            [
             0.3333333333333333,
             "#9c179e"
            ],
            [
             0.4444444444444444,
             "#bd3786"
            ],
            [
             0.5555555555555556,
             "#d8576b"
            ],
            [
             0.6666666666666666,
             "#ed7953"
            ],
            [
             0.7777777777777778,
             "#fb9f3a"
            ],
            [
             0.8888888888888888,
             "#fdca26"
            ],
            [
             1,
             "#f0f921"
            ]
           ]
          },
          "colorway": [
           "#636efa",
           "#EF553B",
           "#00cc96",
           "#ab63fa",
           "#FFA15A",
           "#19d3f3",
           "#FF6692",
           "#B6E880",
           "#FF97FF",
           "#FECB52"
          ],
          "font": {
           "color": "#2a3f5f"
          },
          "geo": {
           "bgcolor": "white",
           "lakecolor": "white",
           "landcolor": "#E5ECF6",
           "showlakes": true,
           "showland": true,
           "subunitcolor": "white"
          },
          "hoverlabel": {
           "align": "left"
          },
          "hovermode": "closest",
          "mapbox": {
           "style": "light"
          },
          "paper_bgcolor": "white",
          "plot_bgcolor": "#E5ECF6",
          "polar": {
           "angularaxis": {
            "gridcolor": "white",
            "linecolor": "white",
            "ticks": ""
           },
           "bgcolor": "#E5ECF6",
           "radialaxis": {
            "gridcolor": "white",
            "linecolor": "white",
            "ticks": ""
           }
          },
          "scene": {
           "xaxis": {
            "backgroundcolor": "#E5ECF6",
            "gridcolor": "white",
            "gridwidth": 2,
            "linecolor": "white",
            "showbackground": true,
            "ticks": "",
            "zerolinecolor": "white"
           },
           "yaxis": {
            "backgroundcolor": "#E5ECF6",
            "gridcolor": "white",
            "gridwidth": 2,
            "linecolor": "white",
            "showbackground": true,
            "ticks": "",
            "zerolinecolor": "white"
           },
           "zaxis": {
            "backgroundcolor": "#E5ECF6",
            "gridcolor": "white",
            "gridwidth": 2,
            "linecolor": "white",
            "showbackground": true,
            "ticks": "",
            "zerolinecolor": "white"
           }
          },
          "shapedefaults": {
           "line": {
            "color": "#2a3f5f"
           }
          },
          "ternary": {
           "aaxis": {
            "gridcolor": "white",
            "linecolor": "white",
            "ticks": ""
           },
           "baxis": {
            "gridcolor": "white",
            "linecolor": "white",
            "ticks": ""
           },
           "bgcolor": "#E5ECF6",
           "caxis": {
            "gridcolor": "white",
            "linecolor": "white",
            "ticks": ""
           }
          },
          "title": {
           "x": 0.05
          },
          "xaxis": {
           "automargin": true,
           "gridcolor": "white",
           "linecolor": "white",
           "ticks": "",
           "title": {
            "standoff": 15
           },
           "zerolinecolor": "white",
           "zerolinewidth": 2
          },
          "yaxis": {
           "automargin": true,
           "gridcolor": "white",
           "linecolor": "white",
           "ticks": "",
           "title": {
            "standoff": 15
           },
           "zerolinecolor": "white",
           "zerolinewidth": 2
          }
         }
        },
        "width": 1000,
        "xaxis": {
         "anchor": "y",
         "domain": [
          0,
          1
         ],
         "dtick": 1800000,
         "tickangle": 45,
         "tickformat": "%H:%M",
         "type": "date"
        },
        "yaxis": {
         "anchor": "x",
         "autorange": "reversed",
         "domain": [
          0,
          1
         ],
         "title": {
          "text": "Task"
         }
        }
       }
      },
      "text/html": [
       "<div>                        <script type=\"text/javascript\">window.PlotlyConfig = {MathJaxConfig: 'local'};</script>\n",
       "        <script charset=\"utf-8\" src=\"https://cdn.plot.ly/plotly-2.35.2.min.js\"></script>                <div id=\"9ff023f4-8c67-433e-b094-c69919071c2b\" class=\"plotly-graph-div\" style=\"height:500px; width:1000px;\"></div>            <script type=\"text/javascript\">                                    window.PLOTLYENV=window.PLOTLYENV || {};                                    if (document.getElementById(\"9ff023f4-8c67-433e-b094-c69919071c2b\")) {                    Plotly.newPlot(                        \"9ff023f4-8c67-433e-b094-c69919071c2b\",                        [{\"alignmentgroup\":\"True\",\"base\":[\"2025-03-04T06:00:00\",\"2025-03-04T06:30:00\",\"2025-03-04T07:30:00\",\"2025-03-04T09:00:00\",\"2025-03-04T10:30:00\",\"2025-03-04T11:00:00\",\"2025-03-04T12:00:00\",\"2025-03-04T13:30:00\"],\"hovertemplate\":\"Resource=R-301a\\u003cbr\\u003eStart=%{base}\\u003cbr\\u003eFinish=%{x}\\u003cbr\\u003eTask=%{y}\\u003cextra\\u003e\\u003c\\u002fextra\\u003e\",\"legendgroup\":\"R-301a\",\"marker\":{\"color\":\"#636efa\",\"pattern\":{\"shape\":\"\"}},\"name\":\"R-301a\",\"offsetgroup\":\"R-301a\",\"orientation\":\"h\",\"showlegend\":true,\"textposition\":\"auto\",\"x\":[1800000.0,3600000.0,5400000.0,1800000.0,1800000.0,3600000.0,5400000.0,1800000.0],\"xaxis\":\"x\",\"y\":[\"Charge R-301a\",\"Heat R-301a\",\"Reaction R-301a\",\"Deload R-301a\",\"Charge R-301a\",\"Heat R-301a\",\"Reaction R-301a\",\"Deload R-301a\"],\"yaxis\":\"y\",\"type\":\"bar\"},{\"alignmentgroup\":\"True\",\"base\":[\"2025-03-04T07:30:00\",\"2025-03-04T08:00:00\",\"2025-03-04T09:00:00\",\"2025-03-04T10:30:00\",\"2025-03-04T12:00:00\",\"2025-03-04T12:30:00\",\"2025-03-04T13:30:00\",\"2025-03-04T15:00:00\"],\"hovertemplate\":\"Resource=R-301b\\u003cbr\\u003eStart=%{base}\\u003cbr\\u003eFinish=%{x}\\u003cbr\\u003eTask=%{y}\\u003cextra\\u003e\\u003c\\u002fextra\\u003e\",\"legendgroup\":\"R-301b\",\"marker\":{\"color\":\"#EF553B\",\"pattern\":{\"shape\":\"\"}},\"name\":\"R-301b\",\"offsetgroup\":\"R-301b\",\"orientation\":\"h\",\"showlegend\":true,\"textposition\":\"auto\",\"x\":[1800000.0,3600000.0,5400000.0,1800000.0,1800000.0,3600000.0,5400000.0,1800000.0],\"xaxis\":\"x\",\"y\":[\"Charge R-301b\",\"Heat R-301b\",\"Reaction R-301b\",\"Deload R-301b\",\"Charge R-301b\",\"Heat R-301b\",\"Reaction R-301b\",\"Deload R-301b\"],\"yaxis\":\"y\",\"type\":\"bar\"},{\"alignmentgroup\":\"True\",\"base\":[\"2025-03-04T09:00:00\",\"2025-03-04T09:30:00\",\"2025-03-04T10:30:00\",\"2025-03-04T12:00:00\",\"2025-03-04T13:30:00\",\"2025-03-04T14:00:00\",\"2025-03-04T15:00:00\",\"2025-03-04T16:30:00\"],\"hovertemplate\":\"Resource=R-301c\\u003cbr\\u003eStart=%{base}\\u003cbr\\u003eFinish=%{x}\\u003cbr\\u003eTask=%{y}\\u003cextra\\u003e\\u003c\\u002fextra\\u003e\",\"legendgroup\":\"R-301c\",\"marker\":{\"color\":\"#00cc96\",\"pattern\":{\"shape\":\"\"}},\"name\":\"R-301c\",\"offsetgroup\":\"R-301c\",\"orientation\":\"h\",\"showlegend\":true,\"textposition\":\"auto\",\"x\":[1800000.0,3600000.0,5400000.0,1800000.0,1800000.0,3600000.0,5400000.0,1800000.0],\"xaxis\":\"x\",\"y\":[\"Charge R-301c\",\"Heat R-301c\",\"Reaction R-301c\",\"Deload R-301c\",\"Charge R-301c\",\"Heat R-301c\",\"Reaction R-301c\",\"Deload R-301c\"],\"yaxis\":\"y\",\"type\":\"bar\"},{\"alignmentgroup\":\"True\",\"base\":[\"2025-03-04T09:00:00\",\"2025-03-04T09:30:00\",\"2025-03-04T11:30:00\",\"2025-03-04T12:00:00\",\"2025-03-04T12:30:00\",\"2025-03-04T14:30:00\",\"2025-03-04T15:00:00\",\"2025-03-04T15:30:00\",\"2025-03-04T17:30:00\"],\"hovertemplate\":\"Resource=R-501a\\u003cbr\\u003eStart=%{base}\\u003cbr\\u003eFinish=%{x}\\u003cbr\\u003eTask=%{y}\\u003cextra\\u003e\\u003c\\u002fextra\\u003e\",\"legendgroup\":\"R-501a\",\"marker\":{\"color\":\"#ab63fa\",\"pattern\":{\"shape\":\"\"}},\"name\":\"R-501a\",\"offsetgroup\":\"R-501a\",\"orientation\":\"h\",\"showlegend\":true,\"textposition\":\"auto\",\"x\":[1800000.0,7200000.0,1800000.0,1800000.0,7200000.0,1800000.0,1800000.0,7200000.0,1800000.0],\"xaxis\":\"x\",\"y\":[\"Charge R-501a\",\"Smelting reduction R-501a\",\"Deload R-501a\",\"Charge R-501a\",\"Smelting reduction R-501a\",\"Deload R-501a\",\"Charge R-501a\",\"Smelting reduction R-501a\",\"Deload R-501a\"],\"yaxis\":\"y\",\"type\":\"bar\"},{\"alignmentgroup\":\"True\",\"base\":[\"2025-03-04T10:30:00\",\"2025-03-04T11:00:00\",\"2025-03-04T13:00:00\",\"2025-03-04T13:30:00\",\"2025-03-04T14:00:00\",\"2025-03-04T16:00:00\",\"2025-03-04T16:30:00\",\"2025-03-04T17:00:00\",\"2025-03-04T19:00:00\"],\"hovertemplate\":\"Resource=R-501b\\u003cbr\\u003eStart=%{base}\\u003cbr\\u003eFinish=%{x}\\u003cbr\\u003eTask=%{y}\\u003cextra\\u003e\\u003c\\u002fextra\\u003e\",\"legendgroup\":\"R-501b\",\"marker\":{\"color\":\"#FFA15A\",\"pattern\":{\"shape\":\"\"}},\"name\":\"R-501b\",\"offsetgroup\":\"R-501b\",\"orientation\":\"h\",\"showlegend\":true,\"textposition\":\"auto\",\"x\":[1800000.0,7200000.0,1800000.0,1800000.0,7200000.0,1800000.0,1800000.0,7200000.0,1800000.0],\"xaxis\":\"x\",\"y\":[\"Charge R-501b\",\"Smelting reduction R-501b\",\"Deload R-501b\",\"Charge R-501b\",\"Smelting reduction R-501b\",\"Deload R-501b\",\"Charge R-501b\",\"Smelting reduction R-501b\",\"Deload R-501b\"],\"yaxis\":\"y\",\"type\":\"bar\"},{\"alignmentgroup\":\"True\",\"base\":[\"2025-03-04T15:00:00\",\"2025-03-04T18:00:00\"],\"hovertemplate\":\"Resource=Additional \\u003cbr\\u003eCapacity\\u003cbr\\u003eStart=%{base}\\u003cbr\\u003eFinish=%{x}\\u003cbr\\u003eTask=%{y}\\u003cextra\\u003e\\u003c\\u002fextra\\u003e\",\"legendgroup\":\"Additional \\u003cbr\\u003eCapacity\",\"marker\":{\"color\":\"#19d3f3\",\"pattern\":{\"shape\":\"\"}},\"name\":\"Additional \\u003cbr\\u003eCapacity\",\"offsetgroup\":\"Additional \\u003cbr\\u003eCapacity\",\"orientation\":\"h\",\"showlegend\":true,\"textposition\":\"auto\",\"x\":[12600000.0,10800000.0],\"xaxis\":\"x\",\"y\":[\"Additional PRR Cycle (TPM)\",\"Additional SRF Cycle (TPM)\"],\"yaxis\":\"y\",\"type\":\"bar\"}],                        {\"template\":{\"data\":{\"histogram2dcontour\":[{\"type\":\"histogram2dcontour\",\"colorbar\":{\"outlinewidth\":0,\"ticks\":\"\"},\"colorscale\":[[0.0,\"#0d0887\"],[0.1111111111111111,\"#46039f\"],[0.2222222222222222,\"#7201a8\"],[0.3333333333333333,\"#9c179e\"],[0.4444444444444444,\"#bd3786\"],[0.5555555555555556,\"#d8576b\"],[0.6666666666666666,\"#ed7953\"],[0.7777777777777778,\"#fb9f3a\"],[0.8888888888888888,\"#fdca26\"],[1.0,\"#f0f921\"]]}],\"choropleth\":[{\"type\":\"choropleth\",\"colorbar\":{\"outlinewidth\":0,\"ticks\":\"\"}}],\"histogram2d\":[{\"type\":\"histogram2d\",\"colorbar\":{\"outlinewidth\":0,\"ticks\":\"\"},\"colorscale\":[[0.0,\"#0d0887\"],[0.1111111111111111,\"#46039f\"],[0.2222222222222222,\"#7201a8\"],[0.3333333333333333,\"#9c179e\"],[0.4444444444444444,\"#bd3786\"],[0.5555555555555556,\"#d8576b\"],[0.6666666666666666,\"#ed7953\"],[0.7777777777777778,\"#fb9f3a\"],[0.8888888888888888,\"#fdca26\"],[1.0,\"#f0f921\"]]}],\"heatmap\":[{\"type\":\"heatmap\",\"colorbar\":{\"outlinewidth\":0,\"ticks\":\"\"},\"colorscale\":[[0.0,\"#0d0887\"],[0.1111111111111111,\"#46039f\"],[0.2222222222222222,\"#7201a8\"],[0.3333333333333333,\"#9c179e\"],[0.4444444444444444,\"#bd3786\"],[0.5555555555555556,\"#d8576b\"],[0.6666666666666666,\"#ed7953\"],[0.7777777777777778,\"#fb9f3a\"],[0.8888888888888888,\"#fdca26\"],[1.0,\"#f0f921\"]]}],\"heatmapgl\":[{\"type\":\"heatmapgl\",\"colorbar\":{\"outlinewidth\":0,\"ticks\":\"\"},\"colorscale\":[[0.0,\"#0d0887\"],[0.1111111111111111,\"#46039f\"],[0.2222222222222222,\"#7201a8\"],[0.3333333333333333,\"#9c179e\"],[0.4444444444444444,\"#bd3786\"],[0.5555555555555556,\"#d8576b\"],[0.6666666666666666,\"#ed7953\"],[0.7777777777777778,\"#fb9f3a\"],[0.8888888888888888,\"#fdca26\"],[1.0,\"#f0f921\"]]}],\"contourcarpet\":[{\"type\":\"contourcarpet\",\"colorbar\":{\"outlinewidth\":0,\"ticks\":\"\"}}],\"contour\":[{\"type\":\"contour\",\"colorbar\":{\"outlinewidth\":0,\"ticks\":\"\"},\"colorscale\":[[0.0,\"#0d0887\"],[0.1111111111111111,\"#46039f\"],[0.2222222222222222,\"#7201a8\"],[0.3333333333333333,\"#9c179e\"],[0.4444444444444444,\"#bd3786\"],[0.5555555555555556,\"#d8576b\"],[0.6666666666666666,\"#ed7953\"],[0.7777777777777778,\"#fb9f3a\"],[0.8888888888888888,\"#fdca26\"],[1.0,\"#f0f921\"]]}],\"surface\":[{\"type\":\"surface\",\"colorbar\":{\"outlinewidth\":0,\"ticks\":\"\"},\"colorscale\":[[0.0,\"#0d0887\"],[0.1111111111111111,\"#46039f\"],[0.2222222222222222,\"#7201a8\"],[0.3333333333333333,\"#9c179e\"],[0.4444444444444444,\"#bd3786\"],[0.5555555555555556,\"#d8576b\"],[0.6666666666666666,\"#ed7953\"],[0.7777777777777778,\"#fb9f3a\"],[0.8888888888888888,\"#fdca26\"],[1.0,\"#f0f921\"]]}],\"mesh3d\":[{\"type\":\"mesh3d\",\"colorbar\":{\"outlinewidth\":0,\"ticks\":\"\"}}],\"scatter\":[{\"fillpattern\":{\"fillmode\":\"overlay\",\"size\":10,\"solidity\":0.2},\"type\":\"scatter\"}],\"parcoords\":[{\"type\":\"parcoords\",\"line\":{\"colorbar\":{\"outlinewidth\":0,\"ticks\":\"\"}}}],\"scatterpolargl\":[{\"type\":\"scatterpolargl\",\"marker\":{\"colorbar\":{\"outlinewidth\":0,\"ticks\":\"\"}}}],\"bar\":[{\"error_x\":{\"color\":\"#2a3f5f\"},\"error_y\":{\"color\":\"#2a3f5f\"},\"marker\":{\"line\":{\"color\":\"#E5ECF6\",\"width\":0.5},\"pattern\":{\"fillmode\":\"overlay\",\"size\":10,\"solidity\":0.2}},\"type\":\"bar\"}],\"scattergeo\":[{\"type\":\"scattergeo\",\"marker\":{\"colorbar\":{\"outlinewidth\":0,\"ticks\":\"\"}}}],\"scatterpolar\":[{\"type\":\"scatterpolar\",\"marker\":{\"colorbar\":{\"outlinewidth\":0,\"ticks\":\"\"}}}],\"histogram\":[{\"marker\":{\"pattern\":{\"fillmode\":\"overlay\",\"size\":10,\"solidity\":0.2}},\"type\":\"histogram\"}],\"scattergl\":[{\"type\":\"scattergl\",\"marker\":{\"colorbar\":{\"outlinewidth\":0,\"ticks\":\"\"}}}],\"scatter3d\":[{\"type\":\"scatter3d\",\"line\":{\"colorbar\":{\"outlinewidth\":0,\"ticks\":\"\"}},\"marker\":{\"colorbar\":{\"outlinewidth\":0,\"ticks\":\"\"}}}],\"scattermapbox\":[{\"type\":\"scattermapbox\",\"marker\":{\"colorbar\":{\"outlinewidth\":0,\"ticks\":\"\"}}}],\"scatterternary\":[{\"type\":\"scatterternary\",\"marker\":{\"colorbar\":{\"outlinewidth\":0,\"ticks\":\"\"}}}],\"scattercarpet\":[{\"type\":\"scattercarpet\",\"marker\":{\"colorbar\":{\"outlinewidth\":0,\"ticks\":\"\"}}}],\"carpet\":[{\"aaxis\":{\"endlinecolor\":\"#2a3f5f\",\"gridcolor\":\"white\",\"linecolor\":\"white\",\"minorgridcolor\":\"white\",\"startlinecolor\":\"#2a3f5f\"},\"baxis\":{\"endlinecolor\":\"#2a3f5f\",\"gridcolor\":\"white\",\"linecolor\":\"white\",\"minorgridcolor\":\"white\",\"startlinecolor\":\"#2a3f5f\"},\"type\":\"carpet\"}],\"table\":[{\"cells\":{\"fill\":{\"color\":\"#EBF0F8\"},\"line\":{\"color\":\"white\"}},\"header\":{\"fill\":{\"color\":\"#C8D4E3\"},\"line\":{\"color\":\"white\"}},\"type\":\"table\"}],\"barpolar\":[{\"marker\":{\"line\":{\"color\":\"#E5ECF6\",\"width\":0.5},\"pattern\":{\"fillmode\":\"overlay\",\"size\":10,\"solidity\":0.2}},\"type\":\"barpolar\"}],\"pie\":[{\"automargin\":true,\"type\":\"pie\"}]},\"layout\":{\"autotypenumbers\":\"strict\",\"colorway\":[\"#636efa\",\"#EF553B\",\"#00cc96\",\"#ab63fa\",\"#FFA15A\",\"#19d3f3\",\"#FF6692\",\"#B6E880\",\"#FF97FF\",\"#FECB52\"],\"font\":{\"color\":\"#2a3f5f\"},\"hovermode\":\"closest\",\"hoverlabel\":{\"align\":\"left\"},\"paper_bgcolor\":\"white\",\"plot_bgcolor\":\"#E5ECF6\",\"polar\":{\"bgcolor\":\"#E5ECF6\",\"angularaxis\":{\"gridcolor\":\"white\",\"linecolor\":\"white\",\"ticks\":\"\"},\"radialaxis\":{\"gridcolor\":\"white\",\"linecolor\":\"white\",\"ticks\":\"\"}},\"ternary\":{\"bgcolor\":\"#E5ECF6\",\"aaxis\":{\"gridcolor\":\"white\",\"linecolor\":\"white\",\"ticks\":\"\"},\"baxis\":{\"gridcolor\":\"white\",\"linecolor\":\"white\",\"ticks\":\"\"},\"caxis\":{\"gridcolor\":\"white\",\"linecolor\":\"white\",\"ticks\":\"\"}},\"coloraxis\":{\"colorbar\":{\"outlinewidth\":0,\"ticks\":\"\"}},\"colorscale\":{\"sequential\":[[0.0,\"#0d0887\"],[0.1111111111111111,\"#46039f\"],[0.2222222222222222,\"#7201a8\"],[0.3333333333333333,\"#9c179e\"],[0.4444444444444444,\"#bd3786\"],[0.5555555555555556,\"#d8576b\"],[0.6666666666666666,\"#ed7953\"],[0.7777777777777778,\"#fb9f3a\"],[0.8888888888888888,\"#fdca26\"],[1.0,\"#f0f921\"]],\"sequentialminus\":[[0.0,\"#0d0887\"],[0.1111111111111111,\"#46039f\"],[0.2222222222222222,\"#7201a8\"],[0.3333333333333333,\"#9c179e\"],[0.4444444444444444,\"#bd3786\"],[0.5555555555555556,\"#d8576b\"],[0.6666666666666666,\"#ed7953\"],[0.7777777777777778,\"#fb9f3a\"],[0.8888888888888888,\"#fdca26\"],[1.0,\"#f0f921\"]],\"diverging\":[[0,\"#8e0152\"],[0.1,\"#c51b7d\"],[0.2,\"#de77ae\"],[0.3,\"#f1b6da\"],[0.4,\"#fde0ef\"],[0.5,\"#f7f7f7\"],[0.6,\"#e6f5d0\"],[0.7,\"#b8e186\"],[0.8,\"#7fbc41\"],[0.9,\"#4d9221\"],[1,\"#276419\"]]},\"xaxis\":{\"gridcolor\":\"white\",\"linecolor\":\"white\",\"ticks\":\"\",\"title\":{\"standoff\":15},\"zerolinecolor\":\"white\",\"automargin\":true,\"zerolinewidth\":2},\"yaxis\":{\"gridcolor\":\"white\",\"linecolor\":\"white\",\"ticks\":\"\",\"title\":{\"standoff\":15},\"zerolinecolor\":\"white\",\"automargin\":true,\"zerolinewidth\":2},\"scene\":{\"xaxis\":{\"backgroundcolor\":\"#E5ECF6\",\"gridcolor\":\"white\",\"linecolor\":\"white\",\"showbackground\":true,\"ticks\":\"\",\"zerolinecolor\":\"white\",\"gridwidth\":2},\"yaxis\":{\"backgroundcolor\":\"#E5ECF6\",\"gridcolor\":\"white\",\"linecolor\":\"white\",\"showbackground\":true,\"ticks\":\"\",\"zerolinecolor\":\"white\",\"gridwidth\":2},\"zaxis\":{\"backgroundcolor\":\"#E5ECF6\",\"gridcolor\":\"white\",\"linecolor\":\"white\",\"showbackground\":true,\"ticks\":\"\",\"zerolinecolor\":\"white\",\"gridwidth\":2}},\"shapedefaults\":{\"line\":{\"color\":\"#2a3f5f\"}},\"annotationdefaults\":{\"arrowcolor\":\"#2a3f5f\",\"arrowhead\":0,\"arrowwidth\":1},\"geo\":{\"bgcolor\":\"white\",\"landcolor\":\"#E5ECF6\",\"subunitcolor\":\"white\",\"showland\":true,\"showlakes\":true,\"lakecolor\":\"white\"},\"title\":{\"x\":0.05},\"mapbox\":{\"style\":\"light\"}}},\"xaxis\":{\"anchor\":\"y\",\"domain\":[0.0,1.0],\"type\":\"date\",\"tickformat\":\"%H:%M\",\"dtick\":1800000,\"tickangle\":45},\"yaxis\":{\"anchor\":\"x\",\"domain\":[0.0,1.0],\"title\":{\"text\":\"Task\"},\"autorange\":\"reversed\"},\"legend\":{\"title\":{\"text\":\"Resource\"},\"tracegroupgap\":0},\"margin\":{\"t\":60},\"barmode\":\"overlay\",\"width\":1000,\"height\":500},                        {\"responsive\": true}                    )                };                            </script>        </div>"
      ],
      "text/plain": [
       "Figure({\n",
       "    'data': [{'alignmentgroup': 'True',\n",
       "              'base': array([datetime.datetime(2025, 3, 4, 6, 0),\n",
       "                             datetime.datetime(2025, 3, 4, 6, 30),\n",
       "                             datetime.datetime(2025, 3, 4, 7, 30),\n",
       "                             datetime.datetime(2025, 3, 4, 9, 0),\n",
       "                             datetime.datetime(2025, 3, 4, 10, 30),\n",
       "                             datetime.datetime(2025, 3, 4, 11, 0),\n",
       "                             datetime.datetime(2025, 3, 4, 12, 0),\n",
       "                             datetime.datetime(2025, 3, 4, 13, 30)], dtype=object),\n",
       "              'hovertemplate': 'Resource=R-301a<br>Start=%{base}<br>Finish=%{x}<br>Task=%{y}<extra></extra>',\n",
       "              'legendgroup': 'R-301a',\n",
       "              'marker': {'color': '#636efa', 'pattern': {'shape': ''}},\n",
       "              'name': 'R-301a',\n",
       "              'offsetgroup': 'R-301a',\n",
       "              'orientation': 'h',\n",
       "              'showlegend': True,\n",
       "              'textposition': 'auto',\n",
       "              'type': 'bar',\n",
       "              'x': array([1800000., 3600000., 5400000., 1800000., 1800000., 3600000., 5400000.,\n",
       "                          1800000.]),\n",
       "              'xaxis': 'x',\n",
       "              'y': array(['Charge R-301a', 'Heat R-301a', 'Reaction R-301a', 'Deload R-301a',\n",
       "                          'Charge R-301a', 'Heat R-301a', 'Reaction R-301a', 'Deload R-301a'],\n",
       "                         dtype=object),\n",
       "              'yaxis': 'y'},\n",
       "             {'alignmentgroup': 'True',\n",
       "              'base': array([datetime.datetime(2025, 3, 4, 7, 30),\n",
       "                             datetime.datetime(2025, 3, 4, 8, 0),\n",
       "                             datetime.datetime(2025, 3, 4, 9, 0),\n",
       "                             datetime.datetime(2025, 3, 4, 10, 30),\n",
       "                             datetime.datetime(2025, 3, 4, 12, 0),\n",
       "                             datetime.datetime(2025, 3, 4, 12, 30),\n",
       "                             datetime.datetime(2025, 3, 4, 13, 30),\n",
       "                             datetime.datetime(2025, 3, 4, 15, 0)], dtype=object),\n",
       "              'hovertemplate': 'Resource=R-301b<br>Start=%{base}<br>Finish=%{x}<br>Task=%{y}<extra></extra>',\n",
       "              'legendgroup': 'R-301b',\n",
       "              'marker': {'color': '#EF553B', 'pattern': {'shape': ''}},\n",
       "              'name': 'R-301b',\n",
       "              'offsetgroup': 'R-301b',\n",
       "              'orientation': 'h',\n",
       "              'showlegend': True,\n",
       "              'textposition': 'auto',\n",
       "              'type': 'bar',\n",
       "              'x': array([1800000., 3600000., 5400000., 1800000., 1800000., 3600000., 5400000.,\n",
       "                          1800000.]),\n",
       "              'xaxis': 'x',\n",
       "              'y': array(['Charge R-301b', 'Heat R-301b', 'Reaction R-301b', 'Deload R-301b',\n",
       "                          'Charge R-301b', 'Heat R-301b', 'Reaction R-301b', 'Deload R-301b'],\n",
       "                         dtype=object),\n",
       "              'yaxis': 'y'},\n",
       "             {'alignmentgroup': 'True',\n",
       "              'base': array([datetime.datetime(2025, 3, 4, 9, 0),\n",
       "                             datetime.datetime(2025, 3, 4, 9, 30),\n",
       "                             datetime.datetime(2025, 3, 4, 10, 30),\n",
       "                             datetime.datetime(2025, 3, 4, 12, 0),\n",
       "                             datetime.datetime(2025, 3, 4, 13, 30),\n",
       "                             datetime.datetime(2025, 3, 4, 14, 0),\n",
       "                             datetime.datetime(2025, 3, 4, 15, 0),\n",
       "                             datetime.datetime(2025, 3, 4, 16, 30)], dtype=object),\n",
       "              'hovertemplate': 'Resource=R-301c<br>Start=%{base}<br>Finish=%{x}<br>Task=%{y}<extra></extra>',\n",
       "              'legendgroup': 'R-301c',\n",
       "              'marker': {'color': '#00cc96', 'pattern': {'shape': ''}},\n",
       "              'name': 'R-301c',\n",
       "              'offsetgroup': 'R-301c',\n",
       "              'orientation': 'h',\n",
       "              'showlegend': True,\n",
       "              'textposition': 'auto',\n",
       "              'type': 'bar',\n",
       "              'x': array([1800000., 3600000., 5400000., 1800000., 1800000., 3600000., 5400000.,\n",
       "                          1800000.]),\n",
       "              'xaxis': 'x',\n",
       "              'y': array(['Charge R-301c', 'Heat R-301c', 'Reaction R-301c', 'Deload R-301c',\n",
       "                          'Charge R-301c', 'Heat R-301c', 'Reaction R-301c', 'Deload R-301c'],\n",
       "                         dtype=object),\n",
       "              'yaxis': 'y'},\n",
       "             {'alignmentgroup': 'True',\n",
       "              'base': array([datetime.datetime(2025, 3, 4, 9, 0),\n",
       "                             datetime.datetime(2025, 3, 4, 9, 30),\n",
       "                             datetime.datetime(2025, 3, 4, 11, 30),\n",
       "                             datetime.datetime(2025, 3, 4, 12, 0),\n",
       "                             datetime.datetime(2025, 3, 4, 12, 30),\n",
       "                             datetime.datetime(2025, 3, 4, 14, 30),\n",
       "                             datetime.datetime(2025, 3, 4, 15, 0),\n",
       "                             datetime.datetime(2025, 3, 4, 15, 30),\n",
       "                             datetime.datetime(2025, 3, 4, 17, 30)], dtype=object),\n",
       "              'hovertemplate': 'Resource=R-501a<br>Start=%{base}<br>Finish=%{x}<br>Task=%{y}<extra></extra>',\n",
       "              'legendgroup': 'R-501a',\n",
       "              'marker': {'color': '#ab63fa', 'pattern': {'shape': ''}},\n",
       "              'name': 'R-501a',\n",
       "              'offsetgroup': 'R-501a',\n",
       "              'orientation': 'h',\n",
       "              'showlegend': True,\n",
       "              'textposition': 'auto',\n",
       "              'type': 'bar',\n",
       "              'x': array([1800000., 7200000., 1800000., 1800000., 7200000., 1800000., 1800000.,\n",
       "                          7200000., 1800000.]),\n",
       "              'xaxis': 'x',\n",
       "              'y': array(['Charge R-501a', 'Smelting reduction R-501a', 'Deload R-501a',\n",
       "                          'Charge R-501a', 'Smelting reduction R-501a', 'Deload R-501a',\n",
       "                          'Charge R-501a', 'Smelting reduction R-501a', 'Deload R-501a'],\n",
       "                         dtype=object),\n",
       "              'yaxis': 'y'},\n",
       "             {'alignmentgroup': 'True',\n",
       "              'base': array([datetime.datetime(2025, 3, 4, 10, 30),\n",
       "                             datetime.datetime(2025, 3, 4, 11, 0),\n",
       "                             datetime.datetime(2025, 3, 4, 13, 0),\n",
       "                             datetime.datetime(2025, 3, 4, 13, 30),\n",
       "                             datetime.datetime(2025, 3, 4, 14, 0),\n",
       "                             datetime.datetime(2025, 3, 4, 16, 0),\n",
       "                             datetime.datetime(2025, 3, 4, 16, 30),\n",
       "                             datetime.datetime(2025, 3, 4, 17, 0),\n",
       "                             datetime.datetime(2025, 3, 4, 19, 0)], dtype=object),\n",
       "              'hovertemplate': 'Resource=R-501b<br>Start=%{base}<br>Finish=%{x}<br>Task=%{y}<extra></extra>',\n",
       "              'legendgroup': 'R-501b',\n",
       "              'marker': {'color': '#FFA15A', 'pattern': {'shape': ''}},\n",
       "              'name': 'R-501b',\n",
       "              'offsetgroup': 'R-501b',\n",
       "              'orientation': 'h',\n",
       "              'showlegend': True,\n",
       "              'textposition': 'auto',\n",
       "              'type': 'bar',\n",
       "              'x': array([1800000., 7200000., 1800000., 1800000., 7200000., 1800000., 1800000.,\n",
       "                          7200000., 1800000.]),\n",
       "              'xaxis': 'x',\n",
       "              'y': array(['Charge R-501b', 'Smelting reduction R-501b', 'Deload R-501b',\n",
       "                          'Charge R-501b', 'Smelting reduction R-501b', 'Deload R-501b',\n",
       "                          'Charge R-501b', 'Smelting reduction R-501b', 'Deload R-501b'],\n",
       "                         dtype=object),\n",
       "              'yaxis': 'y'},\n",
       "             {'alignmentgroup': 'True',\n",
       "              'base': array([datetime.datetime(2025, 3, 4, 15, 0),\n",
       "                             datetime.datetime(2025, 3, 4, 18, 0)], dtype=object),\n",
       "              'hovertemplate': ('Resource=Additional <br>Capaci' ... 'x}<br>Task=%{y}<extra></extra>'),\n",
       "              'legendgroup': 'Additional <br>Capacity',\n",
       "              'marker': {'color': '#19d3f3', 'pattern': {'shape': ''}},\n",
       "              'name': 'Additional <br>Capacity',\n",
       "              'offsetgroup': 'Additional <br>Capacity',\n",
       "              'orientation': 'h',\n",
       "              'showlegend': True,\n",
       "              'textposition': 'auto',\n",
       "              'type': 'bar',\n",
       "              'x': array([12600000., 10800000.]),\n",
       "              'xaxis': 'x',\n",
       "              'y': array(['Additional PRR Cycle (TPM)', 'Additional SRF Cycle (TPM)'],\n",
       "                         dtype=object),\n",
       "              'yaxis': 'y'}],\n",
       "    'layout': {'barmode': 'overlay',\n",
       "               'height': 500,\n",
       "               'legend': {'title': {'text': 'Resource'}, 'tracegroupgap': 0},\n",
       "               'margin': {'t': 60},\n",
       "               'template': '...',\n",
       "               'width': 1000,\n",
       "               'xaxis': {'anchor': 'y',\n",
       "                         'domain': [0.0, 1.0],\n",
       "                         'dtick': 1800000,\n",
       "                         'tickangle': 45,\n",
       "                         'tickformat': '%H:%M',\n",
       "                         'type': 'date'},\n",
       "               'yaxis': {'anchor': 'x', 'autorange': 'reversed', 'domain': [0.0, 1.0], 'title': {'text': 'Task'}}}\n",
       "})"
      ]
     },
     "execution_count": 2,
     "metadata": {},
     "output_type": "execute_result"
    }
   ],
   "source": [
    "df = pd.DataFrame([\n",
    "    # ----------------------- Cycle 1 -----------------------\n",
    "    dict(Task=\"Charge R-301a\", Start='2025-03-04 06:00', Finish='2025-03-04 06:30', Resource=\"R-301a\"),\n",
    "    dict(Task=\"Heat R-301a\", Start='2025-03-04 06:30', Finish='2025-03-04 07:30', Resource=\"R-301a\"),\n",
    "    dict(Task=\"Reaction R-301a\", Start='2025-03-04 07:30', Finish='2025-03-04 09:00', Resource=\"R-301a\"),\n",
    "    dict(Task=\"Deload R-301a\", Start='2025-03-04 09:00', Finish='2025-03-04 09:30', Resource=\"R-301a\"),\n",
    "\n",
    "    dict(Task=\"Charge R-301b\", Start='2025-03-04 07:30', Finish='2025-03-04 08:00', Resource=\"R-301b\"),\n",
    "    dict(Task=\"Heat R-301b\", Start='2025-03-04 08:00', Finish='2025-03-04 09:00', Resource=\"R-301b\"),\n",
    "    dict(Task=\"Reaction R-301b\", Start='2025-03-04 09:00', Finish='2025-03-04 10:30', Resource=\"R-301b\"),\n",
    "    dict(Task=\"Deload R-301b\", Start='2025-03-04 10:30', Finish='2025-03-04 11:00', Resource=\"R-301b\"),\n",
    "\n",
    "    dict(Task=\"Charge R-301c\", Start='2025-03-04 09:00', Finish='2025-03-04 09:30', Resource=\"R-301c\"),\n",
    "    dict(Task=\"Heat R-301c\", Start='2025-03-04 09:30', Finish='2025-03-04 10:30', Resource=\"R-301c\"),\n",
    "    dict(Task=\"Reaction R-301c\", Start='2025-03-04 10:30', Finish='2025-03-04 12:00', Resource=\"R-301c\"),\n",
    "    dict(Task=\"Deload R-301c\", Start='2025-03-04 12:00', Finish='2025-03-04 12:30', Resource=\"R-301c\"),\n",
    "\n",
    "    dict(Task=\"Charge R-501a\", Start='2025-03-04 09:00', Finish='2025-03-04 09:30', Resource=\"R-501a\"),\n",
    "    dict(Task=\"Smelting reduction R-501a\", Start='2025-03-04 09:30', Finish='2025-03-04 11:30', Resource=\"R-501a\"),\n",
    "    dict(Task=\"Deload R-501a\", Start='2025-03-04 11:30', Finish='2025-03-04 12:00', Resource=\"R-501a\"),\n",
    "\n",
    "    dict(Task=\"Charge R-501b\", Start='2025-03-04 10:30', Finish='2025-03-04 11:00', Resource=\"R-501b\"),\n",
    "    dict(Task=\"Smelting reduction R-501b\", Start='2025-03-04 11:00', Finish='2025-03-04 13:00', Resource=\"R-501b\"),\n",
    "    dict(Task=\"Deload R-501b\", Start='2025-03-04 13:00', Finish='2025-03-04 13:30', Resource=\"R-501b\"),\n",
    "\n",
    "    # ----------------------- Cycle 2 -----------------------\n",
    "\n",
    "    dict(Task=\"Charge R-301a\", Start='2025-03-04 10:30', Finish='2025-03-04 11:00', Resource=\"R-301a\"),\n",
    "    dict(Task=\"Heat R-301a\", Start='2025-03-04 11:00', Finish='2025-03-04 12:00', Resource=\"R-301a\"),\n",
    "    dict(Task=\"Reaction R-301a\", Start='2025-03-04 12:00', Finish='2025-03-04 13:30', Resource=\"R-301a\"),\n",
    "    dict(Task=\"Deload R-301a\", Start='2025-03-04 13:30', Finish='2025-03-04 14:00', Resource=\"R-301a\"),\n",
    "    \n",
    "    dict(Task=\"Charge R-301b\", Start='2025-03-04 12:00', Finish='2025-03-04 12:30', Resource=\"R-301b\"),\n",
    "    dict(Task=\"Heat R-301b\", Start='2025-03-04 12:30', Finish='2025-03-04 13:30', Resource=\"R-301b\"),\n",
    "    dict(Task=\"Reaction R-301b\", Start='2025-03-04 13:30', Finish='2025-03-04 15:00', Resource=\"R-301b\"),\n",
    "    dict(Task=\"Deload R-301b\", Start='2025-03-04 15:00', Finish='2025-03-04 15:30', Resource=\"R-301b\"),\n",
    "    \n",
    "    dict(Task=\"Charge R-301c\", Start='2025-03-04 13:30', Finish='2025-03-04 14:00', Resource=\"R-301c\"),\n",
    "    dict(Task=\"Heat R-301c\", Start='2025-03-04 14:00', Finish='2025-03-04 15:00', Resource=\"R-301c\"),\n",
    "    dict(Task=\"Reaction R-301c\", Start='2025-03-04 15:00', Finish='2025-03-04 16:30', Resource=\"R-301c\"),\n",
    "    dict(Task=\"Deload R-301c\", Start='2025-03-04 16:30', Finish='2025-03-04 17:00', Resource=\"R-301c\"),\n",
    "    \n",
    "    dict(Task=\"Charge R-501a\", Start='2025-03-04 12:00', Finish='2025-03-04 12:30', Resource=\"R-501a\"),\n",
    "    dict(Task=\"Smelting reduction R-501a\", Start='2025-03-04 12:30', Finish='2025-03-04 14:30', Resource=\"R-501a\"),\n",
    "    dict(Task=\"Deload R-501a\", Start='2025-03-04 14:30', Finish='2025-03-04 15:00', Resource=\"R-501a\"),\n",
    "    \n",
    "    dict(Task=\"Charge R-501b\", Start='2025-03-04 13:30', Finish='2025-03-04 14:00', Resource=\"R-501b\"),\n",
    "    dict(Task=\"Smelting reduction R-501b\", Start='2025-03-04 14:00', Finish='2025-03-04 16:00', Resource=\"R-501b\"),\n",
    "    dict(Task=\"Deload R-501b\", Start='2025-03-04 16:00', Finish='2025-03-04 16:30', Resource=\"R-501b\"),\n",
    "\n",
    "    # ----------------------- Cycle 3 -----------------------\n",
    "    dict(Task=\"Charge R-501a\", Start='2025-03-04 15:00', Finish='2025-03-04 15:30', Resource=\"R-501a\"),\n",
    "    dict(Task=\"Smelting reduction R-501a\", Start='2025-03-04 15:30', Finish='2025-03-04 17:30', Resource=\"R-501a\"),\n",
    "    dict(Task=\"Deload R-501a\", Start='2025-03-04 17:30', Finish='2025-03-04 18:00', Resource=\"R-501a\"),\n",
    "\n",
    "    dict(Task=\"Charge R-501b\", Start='2025-03-04 16:30', Finish='2025-03-04 17:00', Resource=\"R-501b\"),\n",
    "    dict(Task=\"Smelting reduction R-501b\", Start='2025-03-04 17:00', Finish='2025-03-04 19:00', Resource=\"R-501b\"),\n",
    "    dict(Task=\"Deload R-501b\", Start='2025-03-04 19:00', Finish='2025-03-04 19:30', Resource=\"R-501b\"),\n",
    "\n",
    "    # ----------------------- Additional capacity -----------------------\n",
    "\n",
    "    dict(Task=\"Additional PRR Cycle (TPM)\", Start='2025-03-04 15:00', Finish='2025-03-04 18:30', Resource=\"Additional <br>Capacity\"),\n",
    "    dict(Task=\"Additional SRF Cycle (TPM)\", Start='2025-03-04 18:00', Finish='2025-03-04 21:00', Resource=\"Additional <br>Capacity\")\n",
    "])\n",
    "\n",
    "df[\"Start\"] = pd.to_datetime(df[\"Start\"])\n",
    "df[\"Finish\"] = pd.to_datetime(df[\"Finish\"])\n",
    "\n",
    "fig = px.timeline(df, x_start=\"Start\", x_end=\"Finish\", y=\"Task\", color=\"Resource\")\n",
    "\n",
    "fig.update_yaxes(autorange=\"reversed\")\n",
    "fig.update_layout(width=1000, height=500)\n",
    "\n",
    "fig.update_xaxes(tickformat=\"%H:%M\", dtick=1800000, tickangle=45)\n",
    "\n",
    "# save_path = r\"C:\\Users\\fjm21\\OneDrive - Imperial College London\\Fourth Year\\FYD\\Control\\schedule.pdf\"\n",
    "\n",
    "# fig.write_image(save_path, format=\"pdf\")\n",
    "\n",
    "# print(f\"PDF saved to {save_path}\")\n",
    "\n",
    "# save_path = r\"C:\\Users\\fjm21\\OneDrive - Imperial College London\\Fourth Year\\FYD\\Control\\schedule.png\"\n",
    "\n",
    "# # Save the figure as an image (PNG format)\n",
    "# fig.write_image(save_path, format=\"png\", width=1920, height=1080)\n",
    "\n",
    "# print(f\"Image saved to {save_path}\")\n"
   ]
  },
  {
   "cell_type": "markdown",
   "metadata": {},
   "source": [
    "### Startup for scenario (a)"
   ]
  },
  {
   "cell_type": "code",
   "execution_count": 30,
   "metadata": {},
   "outputs": [],
   "source": [
    "df_a = pd.DataFrame([\n",
    "    # ----------------------- startup -----------------------\n",
    "    dict(Task=\"Inspect process units\", Start='2025-03-04 04:00', Finish='2025-03-04 04:20', Resource=\"Inspection of the plant and <br>preparation of process units\"),\n",
    "    dict(Task=\"Pipeline flushing and cleaning\", Start='2025-03-04 04:20', Finish='2025-03-04 04:50', Resource=\"Inspection of the plant and <br>preparation of process units\"),\n",
    "    dict(Task=\"Leak testing\", Start='2025-03-04 04:50', Finish='2025-03-04 05:15', Resource=\"Inspection of the plant and <br>preparation of process units\"),\n",
    "    dict(Task=\"Valve position checks and relief valve settings\", Start='2025-03-04 05:15', Finish='2025-03-04 05:25', Resource=\"Inspection of the plant and <br>preparation of process units\"),\n",
    "    dict(Task=\"Check auxiliary systems operational conditions\", Start='2025-03-04 05:25', Finish='2025-03-04 05:30', Resource=\"Inspection of the plant and <br>preparation of process units\"),\n",
    "\n",
    "    dict(Task=\"Start cooling system (E-102, U-102)\", Start='2025-03-04 05:30', Finish='2025-03-04 05:32', Resource=\"Start of coolers (E-102 and <br>U-102)\"),\n",
    "\n",
    "    dict(Task=\"Ignite flare\", Start='2025-03-04 05:32', Finish='2025-03-04 05:34', Resource=\"Venting combustion chamber <br>(U-201)\"),\n",
    "    dict(Task=\"Start compressor (C-201)\", Start='2025-03-04 05:34', Finish='2025-03-04 05:44', Resource=\"Venting combustion chamber <br>(U-201)\"),\n",
    "    dict(Task=\"Open air feed\", Start='2025-03-04 05:44', Finish='2025-03-04 05:45', Resource=\"Venting combustion chamber <br>(U-201)\"),\n",
    "    dict(Task=\"Vent combustion chamber\", Start='2025-03-04 05:45', Finish='2025-03-04 05:55', Resource=\"Venting combustion chamber <br>(U-201)\"),\n",
    "\n",
    "    dict(Task=\"Start compressors (C-10(1/2), C-301)\", Start='2025-03-04 05:55', Finish='2025-03-04 06:10', Resource=\"Pre-heating combustion <br>chamber (U-201)\"),\n",
    "    dict(Task=\"Start gas blender operation (U-101)\", Start='2025-03-04 06:10', Finish='2025-03-04 06:12', Resource=\"Pre-heating combustion <br>chamber (U-201)\"),\n",
    "    dict(Task=\"Open hydrogen feed\", Start='2025-03-04 06:12', Finish='2025-03-04 06:13', Resource=\"Pre-heating combustion <br>chamber (U-201)\"),\n",
    "    dict(Task=\"Pre-heat U-101\", Start='2025-03-04 06:13', Finish='2025-03-04 07:12', Resource=\"Pre-heating combustion <br>chamber (U-201)\"),\n",
    "\n",
    "    dict(Task=\"Charge R-301a\", Start='2025-03-04 05:43', Finish='2025-03-04 06:13', Resource=\"Reactor operation (R-301a)\"),\n",
    "    dict(Task=\"Heat R-301a\", Start='2025-03-04 06:13', Finish='2025-03-04 07:13', Resource=\"Reactor operation (R-301a)\"),\n",
    "    dict(Task=\"Start automatic control systems\", Start='2025-03-04 07:13', Finish='2025-03-04 07:14', Resource=\"Reactor operation (R-301a)\"),\n",
    "    dict(Task=\"Divert hydrogen to reactor\", Start='2025-03-04 07:14', Finish='2025-03-04 07:15', Resource=\"Reactor operation (R-301a)\"),\n",
    "])  \n",
    "\n",
    "df_a[\"Start\"] = pd.to_datetime(df_a[\"Start\"])\n",
    "df_a[\"Finish\"] = pd.to_datetime(df_a[\"Finish\"])\n",
    "\n",
    "df_a[\"Start\"] = df_a[\"Start\"] + pd.Timedelta(minutes=17)\n",
    "df_a[\"Finish\"] = df_a[\"Finish\"] + pd.Timedelta(minutes=17)\n",
    "\n",
    "fig = px.timeline(df_a, x_start=\"Start\", x_end=\"Finish\", y=\"Task\", color=\"Resource\")\n",
    "\n",
    "fig.update_yaxes(autorange=\"reversed\")\n",
    "fig.update_layout(width=1200, height=800)\n",
    "\n",
    "fig.update_xaxes(tickformat=\"%H:%M\", dtick=1800000/3, tickangle=45)\n",
    "\n",
    "\n",
    "save_path = r\"C:\\Users\\fjm21\\OneDrive - Imperial College London\\Fourth Year\\FYD\\Control\\startup.pdf\"\n",
    "\n",
    "# Save the figure as a PDF\n",
    "pio.write_image(fig, save_path, format=\"pdf\")"
   ]
  },
  {
   "cell_type": "markdown",
   "metadata": {},
   "source": [
    "#### Shutdown"
   ]
  },
  {
   "cell_type": "code",
   "execution_count": 27,
   "metadata": {},
   "outputs": [],
   "source": [
    "df_sd = pd.DataFrame([\n",
    "    # ----------------------- shutdown -----------------------\n",
    "    dict(Task=\"Cease hydrogen feed to current reactor, <br>diverting to bypassloop\", Start='2025-03-04 16:30', Finish='2025-03-04 16:31', Resource=\"Removal of product\"),\n",
    "    dict(Task=\"Prepare for de-loading of R-301a\", Start='2025-03-04 16:31', Finish='2025-03-04 16:40', Resource=\"Removal of product\"),\n",
    "    dict(Task=\"De-load products of R-301a\", Start='2025-03-04 16:40', Finish='2025-03-04 17:00', Resource=\"Removal of product\"),\n",
    "    \n",
    "\n",
    "    dict(Task=\"Reduce compressor (C-101, C-102, C-201, C-301) <br>motor speeds gradually\", Start='2025-03-04 16:40', Finish='2025-03-04 16:50', Resource=\"Shutting down of combustion <br>chamber (U-201)\"),\n",
    "    dict(Task=\"Manually reduce hydrogen flow into the process, <br>extinguishing combustion chamber\", Start='2025-03-04 16:40', Finish='2025-03-04 17:00', Resource=\"Shutting down of combustion <br>chamber (U-201)\"),\n",
    "    dict(Task=\"Shutdown C-102 and C-301\", Start='2025-03-04 17:00', Finish='2025-03-04 17:02', Resource=\"Shutting down of combustion <br>chamber (U-201)\"),\n",
    "    dict(Task=\"Vent combustion chamber with air\", Start='2025-03-04 17:02', Finish='2025-03-04 18:00', Resource=\"Shutting down of combustion <br>chamber (U-201)\"),\n",
    "\n",
    "    dict(Task=\"Cease air feed to the system\", Start='2025-03-04 18:00', Finish='2025-03-04 18:02', Resource=\"Stopping air flow into the <br>system\"),\n",
    "\n",
    "\n",
    "    dict(Task=\"Shutdown of compressors (C-101, C-201)\", Start='2025-03-04 18:02', Finish='2025-03-04 18:12', Resource=\"Shut down of compressors <br>(C-101, C-201)\"),\n",
    "\n",
    "\n",
    "    dict(Task=\"Vent air in system\", Start='2025-03-04 18:12', Finish='2025-03-04 18:22', Resource=\"Shutdown of remaining process <br>units\"),\n",
    "    dict(Task=\"Shutdown gas blender operation (U-101) and <br>cyclone separator operation (U-103)\", Start='2025-03-04 18:22', Finish='2025-03-04 18:30', Resource=\"Shutdown of remaining process <br>units\"),\n",
    "    dict(Task=\"Shutdown flare\", Start='2025-03-04 18:30', Finish='2025-03-04 18:32', Resource=\"Shutdown of remaining process <br>units\"),\n",
    "    dict(Task=\"Shutdown cooling system (E-102, U-102)\", Start='2025-03-04 18:32', Finish='2025-03-04 18:34', Resource=\"Shutdown of remaining process <br>units\"),\n",
    "    dict(Task=\"Final inspection and lockout procedures\", Start='2025-03-04 18:34', Finish='2025-03-04 19:00', Resource=\"Shutdown of remaining process <br>units\"),\n",
    "\n",
    "\n",
    "\n",
    "])  \n",
    "\n",
    "df_sd[\"Start\"] = pd.to_datetime(df_sd[\"Start\"])\n",
    "df_sd[\"Finish\"] = pd.to_datetime(df_sd[\"Finish\"])\n",
    "\n",
    "df_sd[\"Start\"] = df_sd[\"Start\"] + pd.Timedelta(minutes=0)\n",
    "df_sd[\"Finish\"] = df_sd[\"Finish\"] + pd.Timedelta(minutes=0)\n",
    "\n",
    "fig = px.timeline(df_sd, x_start=\"Start\", x_end=\"Finish\", y=\"Task\", color=\"Resource\")\n",
    "\n",
    "fig.update_yaxes(autorange=\"reversed\")\n",
    "fig.update_layout(width=1200, height=800)\n",
    "\n",
    "fig.update_xaxes(tickformat=\"%H:%M\", dtick=1800000/3, tickangle=45)\n",
    "\n",
    "save_path = r\"C:\\Users\\fjm21\\OneDrive - Imperial College London\\Fourth Year\\FYD\\Control\\shutdown.pdf\"\n",
    "\n",
    "# Save the figure as a PDF\n",
    "pio.write_image(fig, save_path, format=\"pdf\")\n",
    "\n"
   ]
  },
  {
   "cell_type": "markdown",
   "metadata": {},
   "source": [
    "#### Full"
   ]
  },
  {
   "cell_type": "code",
   "execution_count": 24,
   "metadata": {},
   "outputs": [],
   "source": [
    "df_full = pd.DataFrame([\n",
    "\n",
    "        # ----------------------- startup a  -----------------------\n",
    "    dict(Task=\"Inspect process units\", Start='2025-03-04 04:17', Finish='2025-03-04 04:37',  Resource=\"Startup (a)\"),\n",
    "    dict(Task=\"Pipeline flushing and cleaning\", Start='2025-03-04 04:37', Finish='2025-03-04 05:07',  Resource=\"Startup (a)\"),\n",
    "    dict(Task=\"Leak testing\", Start='2025-03-04 05:07', Finish='2025-03-04 05:32',  Resource=\"Startup (a)\"),\n",
    "    dict(Task=\"Valve position checks and relief valve settings\", Start='2025-03-04 05:32', Finish='2025-03-04 05:42',  Resource=\"Startup (a)\"),\n",
    "    dict(Task=\"Check auxiliary systems operational conditions\", Start='2025-03-04 05:42', Finish='2025-03-04 05:47',  Resource=\"Startup (a)\"),\n",
    "\n",
    "    dict(Task=\"Start cooling system (E-102, U-102)\", Start='2025-03-04 05:47', Finish='2025-03-04 05:49',  Resource=\"Startup (a)\"),\n",
    "\n",
    "    dict(Task=\"Ignite flare\", Start='2025-03-04 05:49', Finish='2025-03-04 05:51',  Resource=\"Startup (a)\"),\n",
    "    dict(Task=\"Start compressor (C-201)\", Start='2025-03-04 05:51', Finish='2025-03-04 06:01',  Resource=\"Startup (a)\"),\n",
    "    dict(Task=\"Open air feed\", Start='2025-03-04 06:01', Finish='2025-03-04 06:02',  Resource=\"Startup (a)\"),\n",
    "    dict(Task=\"Vent combustion chamber\", Start='2025-03-04 06:02', Finish='2025-03-04 06:12',  Resource=\"Startup (a)\"),\n",
    "\n",
    "    dict(Task=\"Start compressors (C-10(1/2), C-301)\", Start='2025-03-04 06:12', Finish='2025-03-04 06:27',  Resource=\"Startup (a)\"),\n",
    "    dict(Task=\"Start gas blender operation (U-101)\", Start='2025-03-04 06:27', Finish='2025-03-04 06:29',  Resource=\"Startup (a)\"),\n",
    "    dict(Task=\"Open hydrogen feed\", Start='2025-03-04 06:29', Finish='2025-03-04 06:30',  Resource=\"Startup (a)\"),\n",
    "    dict(Task=\"Pre-heat U-101\", Start='2025-03-04 06:30', Finish='2025-03-04 07:29',  Resource=\"Startup (a)\"),\n",
    "\n",
    "    dict(Task=\"Charge R-301a\", Start='2025-03-04 05:43', Finish='2025-03-04 06:13',  Resource=\"Startup (a)\"),\n",
    "    dict(Task=\"Heat R-301a\", Start='2025-03-04 06:13', Finish='2025-03-04 07:13',  Resource=\"Startup (a)\"),\n",
    "    dict(Task=\"Start automatic control systems\", Start='2025-03-04 07:30', Finish='2025-03-04 07:31',  Resource=\"Startup (a)\"),\n",
    "    dict(Task=\"Divert hydrogen to reactor\", Start='2025-03-04 07:31', Finish='2025-03-04 07:32',  Resource=\"Startup (a)\"),\n",
    "\n",
    "\n",
    "    # ----------------------- Reaction batch 1 of R-301a -----------------------\n",
    "    dict(Task=\"Reaction R-301a (batch 1)\", Start='2025-03-04 07:30', Finish='2025-03-04 09:00', Resource=\"Reaction in PRR\"),\n",
    "\n",
    "    # ----------------------- Charge R-301b batch 1 -----------------------\n",
    "    dict(Task=\"Charge R-301b (batch 1)\", Start='2025-03-04 07:30', Finish='2025-03-04 08:00', Resource=\"Startup (b)\"),\n",
    "    dict(Task=\"Heat R-301b (batch 1)\", Start='2025-03-04 08:00', Finish='2025-03-04 09:00', Resource=\"Startup (b)\"),\n",
    "\n",
    "    # ----------------------- Reaction batch 1 of R-301b -----------------------\n",
    "    dict(Task=\"Reaction R-301b (batch 1)\", Start='2025-03-04 09:00', Finish='2025-03-04 10:30', Resource=\"Reaction in PRR\"),\n",
    "    \n",
    "    # ----------------------- Deload of R-301a batch 1 -----------------------\n",
    "    dict(Task=\"Prepare for de-loading of R-301a (batch 1)\", Start='2025-03-04 09:00', Finish='2025-03-04 09:15', Resource=\"Shutdown (b)\"),\n",
    "    dict(Task=\"Deload products of R-301a (batch 1)\", Start='2025-03-04 09:15', Finish='2025-03-04 09:30', Resource=\"Shutdown (b)\"),\n",
    "\n",
    "    # ----------------------- Charge R-301c batch 1 -----------------------\n",
    "    dict(Task=\"Charge R-301c (batch 1)\", Start='2025-03-04 09:00', Finish='2025-03-04 09:30', Resource=\"Startup (b)\"),\n",
    "    dict(Task=\"Heat R-301c (batch 1)\", Start='2025-03-04 09:30', Finish='2025-03-04 10:30', Resource=\"Startup (b)\"),\n",
    "\n",
    "    # ----------------------- Reaction batch 1 of R-301c -----------------------\n",
    "    dict(Task=\"Reaction R-301c (batch 1)\", Start='2025-03-04 10:30', Finish='2025-03-04 12:00', Resource=\"Reaction in PRR\"),\n",
    "\n",
    "    # ----------------------- Deload of R-301b batch 1 -----------------------\n",
    "    dict(Task=\"Prepare for de-loading of R-301b (batch 1)\", Start='2025-03-04 10:30', Finish='2025-03-04 10:45', Resource=\"Shutdown (b)\"),\n",
    "    dict(Task=\"Deload products of R-301b (batch 1)\", Start='2025-03-04 10:45', Finish='2025-03-04 11:00', Resource=\"Shutdown (b)\"),\n",
    "\n",
    "    # ----------------------- Charge R-301a batch 2 -----------------------\n",
    "    dict(Task=\"Charge R-301a (batch 2)\", Start='2025-03-04 10:30', Finish='2025-03-04 11:00', Resource=\"Startup (b)\"),\n",
    "    dict(Task=\"Heat R-301a (batch 2)\", Start='2025-03-04 11:00', Finish='2025-03-04 12:00', Resource=\"Startup (b)\"),\n",
    "\n",
    "    # ----------------------- Reaction R-301a batch 2 -----------------------\n",
    "    dict(Task=\"Reaction R-301a (batch 2)\", Start='2025-03-04 12:00', Finish='2025-03-04 13:30', Resource=\"Reaction in PRR\"),\n",
    "    \n",
    "    # ----------------------- Deload of R-301c batch 1 -----------------------\n",
    "    dict(Task=\"Prepare for deloading of R-301c (batch 1)\", Start='2025-03-04 12:00', Finish='2025-03-04 12:15', Resource=\"Shutdown (b)\"),\n",
    "    dict(Task=\"Deload products of R-301c (batch 1)\", Start='2025-03-04 12:15', Finish='2025-03-04 12:30', Resource=\"Shutdown (b)\"),\n",
    "    \n",
    "    # ----------------------- Charge R-301b batch 2 -----------------------\n",
    "    dict(Task=\"Charge R-301b (batch 2)\", Start='2025-03-04 12:00', Finish='2025-03-04 12:30', Resource=\"Startup (b)\"),\n",
    "    dict(Task=\"Heat R-301b (batch 2)\", Start='2025-03-04 12:30', Finish='2025-03-04 13:30', Resource=\"Startup (b)\"),\n",
    "\n",
    "    # ----------------------- Reaction R-301b batch 2 -----------------------\n",
    "    dict(Task=\"Reaction R-301b (batch 2)\", Start='2025-03-04 13:30', Finish='2025-03-04 15:00', Resource=\"Reaction in PRR\"),\n",
    "    \n",
    "    # ----------------------- Deload of R-301a batch 2 -----------------------\n",
    "    dict(Task=\"Prepare for deloading of R-301a (batch 2)\", Start='2025-03-04 13:30', Finish='2025-03-04 13:45', Resource=\"Shutdown (b)\"),\n",
    "    dict(Task=\"Deload products of R-301a (batch 2)\", Start='2025-03-04 13:45', Finish='2025-03-04 14:00', Resource=\"Shutdown (b)\"),\n",
    "\n",
    "    # ----------------------- Charge R-301c batch 2 -----------------------\n",
    "    dict(Task=\"Charge R-301c (batch 2)\", Start='2025-03-04 13:30', Finish='2025-03-04 14:00', Resource=\"Startup (b)\"),\n",
    "    dict(Task=\"Heat R-301c (batch 2)\", Start='2025-03-04 14:00', Finish='2025-03-04 15:00', Resource=\"Startup (b)\"),\n",
    "    \n",
    "    # ----------------------- Reaction R-301c batch 2 -----------------------\n",
    "    dict(Task=\"Reaction R-301c (batch 2)\", Start='2025-03-04 15:00', Finish='2025-03-04 16:30', Resource=\"Reaction in PRR\"),\n",
    "\n",
    "    # ----------------------- Deload of R-301b batch 2 -----------------------\n",
    "    dict(Task=\"Prepare for deloading of R-301b (batch 2)\", Start='2025-03-04 15:00', Finish='2025-03-04 15:15', Resource=\"Shutdown (b)\"),\n",
    "    dict(Task=\"Deload products of R-301b (batch 2)\", Start='2025-03-04 15:15', Finish='2025-03-04 15:30', Resource=\"Shutdown (b)\"),\n",
    "    \n",
    "    # ----------------------- Deload of R-301c batch 2 -----------------------\n",
    "    dict(Task=\"Prepare for deloading of R-301c (batch 2)\", Start='2025-03-04 16:30', Finish='2025-03-04 16:45', Resource=\"Shutdown (a)\"),\n",
    "    dict(Task=\"Deload R-301c (batch 2)\", Start='2025-03-04 16:45', Finish='2025-03-04 17:00', Resource=\"Shutdown (a)\"),\n",
    "\n",
    "\n",
    "    # ----------------------- Shutdown -----------------------\n",
    "\n",
    "    dict(Task=\"Reduce compressor (C-101, C-102, C-201, C-301) <br>motor speeds gradually\", Start='2025-03-04 16:40', Finish='2025-03-04 16:50', Resource=\"Shutdown (a)\"),\n",
    "    dict(Task=\"Manually reduce hydrogen flow into the process, <br>extinguishing combustion chamber\", Start='2025-03-04 16:40', Finish='2025-03-04 17:00',  Resource=\"Shutdown (a)\"),\n",
    "    dict(Task=\"Shutdown C-102 and C-301\", Start='2025-03-04 17:00', Finish='2025-03-04 17:02',  Resource=\"Shutdown (a)\"),\n",
    "    dict(Task=\"Vent combustion chamber with air\", Start='2025-03-04 17:02', Finish='2025-03-04 18:00',  Resource=\"Shutdown (a)\"),\n",
    "    dict(Task=\"Cease air feed to the system\", Start='2025-03-04 18:00', Finish='2025-03-04 18:02',  Resource=\"Shutdown (a)\"),\n",
    "    dict(Task=\"Shutdown of compressors (C-101, C-201)\", Start='2025-03-04 18:02', Finish='2025-03-04 18:12',  Resource=\"Shutdown (a)\"),\n",
    "    dict(Task=\"Vent air in system\", Start='2025-03-04 18:12', Finish='2025-03-04 18:22',  Resource=\"Shutdown (a)\"),\n",
    "    dict(Task=\"Shutdown gas blender operation (U-101) and <br>cyclone separator operation (U-103)\", Start='2025-03-04 18:22', Finish='2025-03-04 18:30',  Resource=\"Shutdown (a)\"),\n",
    "    dict(Task=\"Shutdown flare\", Start='2025-03-04 18:30', Finish='2025-03-04 18:32',  Resource=\"Shutdown (a)\"),\n",
    "    dict(Task=\"Shutdown cooling system (E-102, U-102)\", Start='2025-03-04 18:32', Finish='2025-03-04 18:34',  Resource=\"Shutdown (a)\"),\n",
    "    dict(Task=\"Final inspection and lockout procedures\", Start='2025-03-04 18:34', Finish='2025-03-04 19:00',  Resource=\"Shutdown (a)\"),\n",
    "\n",
    "])  \n",
    "\n",
    "\n",
    "df_full[\"Start\"] = pd.to_datetime(df_full[\"Start\"])\n",
    "df_full[\"Finish\"] = pd.to_datetime(df_full[\"Finish\"])\n",
    "\n",
    "fig = px.timeline(df_full, x_start=\"Start\", x_end=\"Finish\", y=\"Task\", color=\"Resource\")\n",
    "fig.update_yaxes(autorange=\"reversed\")\n",
    "width = 1400\n",
    "fig.update_layout(width=width, height=1.41*width)\n",
    "\n",
    "fig.update_xaxes(tickformat=\"%H:%M\", dtick=1800000, tickangle=45)\n",
    "\n",
    "save_path = r\"C:\\Users\\fjm21\\OneDrive - Imperial College London\\Fourth Year\\FYD\\Control\\timeline.pdf\"\n",
    "\n",
    "# Save the figure as a PDF\n",
    "pio.write_image(fig, save_path, format=\"pdf\")\n"
   ]
  },
  {
   "cell_type": "code",
   "execution_count": null,
   "metadata": {},
   "outputs": [],
   "source": []
  }
 ],
 "metadata": {
  "kernelspec": {
   "display_name": "pleasework3",
   "language": "python",
   "name": "python3"
  },
  "language_info": {
   "codemirror_mode": {
    "name": "ipython",
    "version": 3
   },
   "file_extension": ".py",
   "mimetype": "text/x-python",
   "name": "python",
   "nbconvert_exporter": "python",
   "pygments_lexer": "ipython3",
   "version": "3.10.16"
  }
 },
 "nbformat": 4,
 "nbformat_minor": 2
}
